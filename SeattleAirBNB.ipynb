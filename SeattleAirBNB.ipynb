{
 "cells": [
  {
   "cell_type": "markdown",
   "id": "8066a8f8",
   "metadata": {},
   "source": [
    "# Seattle AirBNB  "
   ]
  },
  {
   "cell_type": "markdown",
   "id": "e89a1cac",
   "metadata": {},
   "source": [
    "This notebook serves to perform predictive analysis of Seattle AirBNB data. The data will be analysed according to CRISP-DM standards:\n",
    "\n",
    "\n",
    "1. Business Understanding\n",
    "\n",
    "2. Data Understanding\n",
    "\n",
    "3. Data Preparation\n",
    "\n",
    "4. Modeling\n",
    "\n",
    "5. Evaluation and Scoring\n",
    "\n",
    "6. Communication\n",
    "\n",
    "\n",
    "In addition to this notebook, please refer to the README.md file which contains extra information on the analysis process. "
   ]
  },
  {
   "cell_type": "markdown",
   "id": "7885a6f7",
   "metadata": {},
   "source": [
    "## Business Understanding"
   ]
  },
  {
   "cell_type": "markdown",
   "id": "6ab21003",
   "metadata": {},
   "source": [
    "[AirBNB](https://www.airbnb.co.za/) is a company that connects travellers and property owners, allowing the former to rent a living space from the latter. \n",
    "\n",
    "Hosts are required to provide an acceptable living environment within the spaces they are willing to provide, and it is recommended that they stock essential amenities (such as toilet paper, soap, towels, pillows and linens) for their guests. Hosts are encouraged to uphold and exhibit all the foundational principles of hospitality towards their guests, and ultimately work to ensure that guests enjoy their stay and hence keep using the AirBNB platform.\n",
    "AirBNB offers a comprehensive guideline for hosts [here](https://www.airbnb.co.za/help/article/576/host-requirements)\n",
    "\n",
    "Guests can peruse the AirBNB [web page](https://www.airbnb.co.za/) or app for living spaces that would provide for their travelling needs. Whether it be for holiday or work purposes, the wide assortment of property types that are available for rent are sure to provide for any situation that potential guests may desire. Living spaces include (but are not limited to):\n",
    "- beachfronts\n",
    "- cabins\n",
    "- countryside homes\n",
    "- BNBs\n",
    "- farms\n",
    "- city apartments\n",
    "\n",
    "In the same way that hosts are encouraged to provide the best possible living space for their guests, guests are encouraged to respect the property and space of the people from whom they are renting. \n",
    "\n",
    "In the unlikely event that hosts do not treat their guests as promised, or if damages should occur to the property being rented, AirBNB offers comprehensive insurance in the form of \"AirCover\". This is a unique selling point for AirBNB, as according to this [article](https://www.airbnb.co.za/aircover), it provides a booking protection guarantee, check-in guarantee, get-what-you-booked guarantee, and provides a 24-hour safety line for guests to use. AirCover also provides insurance for [hosts](https://www.airbnb.co.za/help/article/3142/getting-protected-through-aircover-for-hosts) where 1 million (USD) in damage protection and a further 1 million (USD) in liability insurance is given.\n",
    "\n",
    "AirBNB has certainly made waves in terms of how people travel and work, and has taken upwards of [20%](https://hospitable.com/competitors-for-airbnb/) of the rental property market share. More and more people are looking for reliable and safe rental property solutions, and it would seem that AirBNB is happy to provide them."
   ]
  },
  {
   "cell_type": "markdown",
   "id": "230788d2",
   "metadata": {},
   "source": [
    "## Data Understanding"
   ]
  },
  {
   "cell_type": "markdown",
   "id": "05863f80",
   "metadata": {},
   "source": [
    "The previous section outlined the kind of business environment that this analysis takes place in. By looking at the data available, questions can be formulated which when answered should provide useful insights that will help analysts better understand AirBNB. The necessary data inspection steps are conducted below, and the questions will follow."
   ]
  },
  {
   "cell_type": "markdown",
   "id": "c25e81dd",
   "metadata": {},
   "source": [
    "### Import Libraries"
   ]
  },
  {
   "cell_type": "code",
   "execution_count": 1,
   "id": "a8b60db0",
   "metadata": {},
   "outputs": [],
   "source": [
    "import numpy as np\n",
    "import pandas as pd\n",
    "import matplotlib.pyplot as plt\n",
    "from sklearn.linear_model import LinearRegression\n",
    "from sklearn.model_selection import train_test_split\n",
    "from sklearn.metrics import r2_score, mean_squared_error\n",
    "import seaborn as sns\n",
    "import warnings\n",
    "\n",
    "warnings.simplefilter('ignore')\n",
    "sns.set()"
   ]
  },
  {
   "cell_type": "markdown",
   "id": "2b6197fc",
   "metadata": {},
   "source": [
    "### Import Data"
   ]
  },
  {
   "cell_type": "code",
   "execution_count": 2,
   "id": "9f3274fd",
   "metadata": {},
   "outputs": [
    {
     "name": "stdout",
     "output_type": "stream",
     "text": [
      "(1393570, 4)\n"
     ]
    },
    {
     "data": {
      "text/html": [
       "<div>\n",
       "<style scoped>\n",
       "    .dataframe tbody tr th:only-of-type {\n",
       "        vertical-align: middle;\n",
       "    }\n",
       "\n",
       "    .dataframe tbody tr th {\n",
       "        vertical-align: top;\n",
       "    }\n",
       "\n",
       "    .dataframe thead th {\n",
       "        text-align: right;\n",
       "    }\n",
       "</style>\n",
       "<table border=\"1\" class=\"dataframe\">\n",
       "  <thead>\n",
       "    <tr style=\"text-align: right;\">\n",
       "      <th></th>\n",
       "      <th>listing_id</th>\n",
       "      <th>date</th>\n",
       "      <th>available</th>\n",
       "      <th>price</th>\n",
       "    </tr>\n",
       "  </thead>\n",
       "  <tbody>\n",
       "    <tr>\n",
       "      <th>0</th>\n",
       "      <td>241032</td>\n",
       "      <td>2016-01-04</td>\n",
       "      <td>t</td>\n",
       "      <td>$85.00</td>\n",
       "    </tr>\n",
       "    <tr>\n",
       "      <th>1</th>\n",
       "      <td>241032</td>\n",
       "      <td>2016-01-05</td>\n",
       "      <td>t</td>\n",
       "      <td>$85.00</td>\n",
       "    </tr>\n",
       "    <tr>\n",
       "      <th>2</th>\n",
       "      <td>241032</td>\n",
       "      <td>2016-01-06</td>\n",
       "      <td>f</td>\n",
       "      <td>NaN</td>\n",
       "    </tr>\n",
       "    <tr>\n",
       "      <th>3</th>\n",
       "      <td>241032</td>\n",
       "      <td>2016-01-07</td>\n",
       "      <td>f</td>\n",
       "      <td>NaN</td>\n",
       "    </tr>\n",
       "    <tr>\n",
       "      <th>4</th>\n",
       "      <td>241032</td>\n",
       "      <td>2016-01-08</td>\n",
       "      <td>f</td>\n",
       "      <td>NaN</td>\n",
       "    </tr>\n",
       "  </tbody>\n",
       "</table>\n",
       "</div>"
      ],
      "text/plain": [
       "   listing_id        date available   price\n",
       "0      241032  2016-01-04         t  $85.00\n",
       "1      241032  2016-01-05         t  $85.00\n",
       "2      241032  2016-01-06         f     NaN\n",
       "3      241032  2016-01-07         f     NaN\n",
       "4      241032  2016-01-08         f     NaN"
      ]
     },
     "execution_count": 2,
     "metadata": {},
     "output_type": "execute_result"
    }
   ],
   "source": [
    "calendar_df = pd.read_csv('calendar.csv')\n",
    "print(calendar_df.shape)\n",
    "calendar_df.head()"
   ]
  },
  {
   "cell_type": "markdown",
   "id": "2c65e053",
   "metadata": {},
   "source": [
    "The calendar dataset focuses on **availability and price** of living spaces available on the AirBNB site."
   ]
  },
  {
   "cell_type": "code",
   "execution_count": 3,
   "id": "f14acfa1",
   "metadata": {},
   "outputs": [
    {
     "name": "stdout",
     "output_type": "stream",
     "text": [
      "(84849, 6)\n"
     ]
    },
    {
     "data": {
      "text/html": [
       "<div>\n",
       "<style scoped>\n",
       "    .dataframe tbody tr th:only-of-type {\n",
       "        vertical-align: middle;\n",
       "    }\n",
       "\n",
       "    .dataframe tbody tr th {\n",
       "        vertical-align: top;\n",
       "    }\n",
       "\n",
       "    .dataframe thead th {\n",
       "        text-align: right;\n",
       "    }\n",
       "</style>\n",
       "<table border=\"1\" class=\"dataframe\">\n",
       "  <thead>\n",
       "    <tr style=\"text-align: right;\">\n",
       "      <th></th>\n",
       "      <th>listing_id</th>\n",
       "      <th>id</th>\n",
       "      <th>date</th>\n",
       "      <th>reviewer_id</th>\n",
       "      <th>reviewer_name</th>\n",
       "      <th>comments</th>\n",
       "    </tr>\n",
       "  </thead>\n",
       "  <tbody>\n",
       "    <tr>\n",
       "      <th>0</th>\n",
       "      <td>7202016</td>\n",
       "      <td>38917982</td>\n",
       "      <td>2015-07-19</td>\n",
       "      <td>28943674</td>\n",
       "      <td>Bianca</td>\n",
       "      <td>Cute and cozy place. Perfect location to every...</td>\n",
       "    </tr>\n",
       "    <tr>\n",
       "      <th>1</th>\n",
       "      <td>7202016</td>\n",
       "      <td>39087409</td>\n",
       "      <td>2015-07-20</td>\n",
       "      <td>32440555</td>\n",
       "      <td>Frank</td>\n",
       "      <td>Kelly has a great room in a very central locat...</td>\n",
       "    </tr>\n",
       "    <tr>\n",
       "      <th>2</th>\n",
       "      <td>7202016</td>\n",
       "      <td>39820030</td>\n",
       "      <td>2015-07-26</td>\n",
       "      <td>37722850</td>\n",
       "      <td>Ian</td>\n",
       "      <td>Very spacious apartment, and in a great neighb...</td>\n",
       "    </tr>\n",
       "    <tr>\n",
       "      <th>3</th>\n",
       "      <td>7202016</td>\n",
       "      <td>40813543</td>\n",
       "      <td>2015-08-02</td>\n",
       "      <td>33671805</td>\n",
       "      <td>George</td>\n",
       "      <td>Close to Seattle Center and all it has to offe...</td>\n",
       "    </tr>\n",
       "    <tr>\n",
       "      <th>4</th>\n",
       "      <td>7202016</td>\n",
       "      <td>41986501</td>\n",
       "      <td>2015-08-10</td>\n",
       "      <td>34959538</td>\n",
       "      <td>Ming</td>\n",
       "      <td>Kelly was a great host and very accommodating ...</td>\n",
       "    </tr>\n",
       "  </tbody>\n",
       "</table>\n",
       "</div>"
      ],
      "text/plain": [
       "   listing_id        id        date  reviewer_id reviewer_name  \\\n",
       "0     7202016  38917982  2015-07-19     28943674        Bianca   \n",
       "1     7202016  39087409  2015-07-20     32440555         Frank   \n",
       "2     7202016  39820030  2015-07-26     37722850           Ian   \n",
       "3     7202016  40813543  2015-08-02     33671805        George   \n",
       "4     7202016  41986501  2015-08-10     34959538          Ming   \n",
       "\n",
       "                                            comments  \n",
       "0  Cute and cozy place. Perfect location to every...  \n",
       "1  Kelly has a great room in a very central locat...  \n",
       "2  Very spacious apartment, and in a great neighb...  \n",
       "3  Close to Seattle Center and all it has to offe...  \n",
       "4  Kelly was a great host and very accommodating ...  "
      ]
     },
     "execution_count": 3,
     "metadata": {},
     "output_type": "execute_result"
    }
   ],
   "source": [
    "reviews_df = pd.read_csv('reviews.csv')\n",
    "print(reviews_df.shape)\n",
    "reviews_df.head()"
   ]
  },
  {
   "cell_type": "markdown",
   "id": "4747de75",
   "metadata": {},
   "source": [
    "The reviews dataset focuses on the **guest experiences** at places which have been rented."
   ]
  },
  {
   "cell_type": "code",
   "execution_count": 4,
   "id": "e2adb182",
   "metadata": {},
   "outputs": [
    {
     "name": "stdout",
     "output_type": "stream",
     "text": [
      "(3818, 92)\n"
     ]
    },
    {
     "data": {
      "text/html": [
       "<div>\n",
       "<style scoped>\n",
       "    .dataframe tbody tr th:only-of-type {\n",
       "        vertical-align: middle;\n",
       "    }\n",
       "\n",
       "    .dataframe tbody tr th {\n",
       "        vertical-align: top;\n",
       "    }\n",
       "\n",
       "    .dataframe thead th {\n",
       "        text-align: right;\n",
       "    }\n",
       "</style>\n",
       "<table border=\"1\" class=\"dataframe\">\n",
       "  <thead>\n",
       "    <tr style=\"text-align: right;\">\n",
       "      <th></th>\n",
       "      <th>id</th>\n",
       "      <th>listing_url</th>\n",
       "      <th>scrape_id</th>\n",
       "      <th>last_scraped</th>\n",
       "      <th>name</th>\n",
       "      <th>summary</th>\n",
       "      <th>space</th>\n",
       "      <th>description</th>\n",
       "      <th>experiences_offered</th>\n",
       "      <th>neighborhood_overview</th>\n",
       "      <th>...</th>\n",
       "      <th>review_scores_value</th>\n",
       "      <th>requires_license</th>\n",
       "      <th>license</th>\n",
       "      <th>jurisdiction_names</th>\n",
       "      <th>instant_bookable</th>\n",
       "      <th>cancellation_policy</th>\n",
       "      <th>require_guest_profile_picture</th>\n",
       "      <th>require_guest_phone_verification</th>\n",
       "      <th>calculated_host_listings_count</th>\n",
       "      <th>reviews_per_month</th>\n",
       "    </tr>\n",
       "  </thead>\n",
       "  <tbody>\n",
       "    <tr>\n",
       "      <th>0</th>\n",
       "      <td>241032</td>\n",
       "      <td>https://www.airbnb.com/rooms/241032</td>\n",
       "      <td>20160104002432</td>\n",
       "      <td>2016-01-04</td>\n",
       "      <td>Stylish Queen Anne Apartment</td>\n",
       "      <td>NaN</td>\n",
       "      <td>Make your self at home in this charming one-be...</td>\n",
       "      <td>Make your self at home in this charming one-be...</td>\n",
       "      <td>none</td>\n",
       "      <td>NaN</td>\n",
       "      <td>...</td>\n",
       "      <td>10.0</td>\n",
       "      <td>f</td>\n",
       "      <td>NaN</td>\n",
       "      <td>WASHINGTON</td>\n",
       "      <td>f</td>\n",
       "      <td>moderate</td>\n",
       "      <td>f</td>\n",
       "      <td>f</td>\n",
       "      <td>2</td>\n",
       "      <td>4.07</td>\n",
       "    </tr>\n",
       "    <tr>\n",
       "      <th>1</th>\n",
       "      <td>953595</td>\n",
       "      <td>https://www.airbnb.com/rooms/953595</td>\n",
       "      <td>20160104002432</td>\n",
       "      <td>2016-01-04</td>\n",
       "      <td>Bright &amp; Airy Queen Anne Apartment</td>\n",
       "      <td>Chemically sensitive? We've removed the irrita...</td>\n",
       "      <td>Beautiful, hypoallergenic apartment in an extr...</td>\n",
       "      <td>Chemically sensitive? We've removed the irrita...</td>\n",
       "      <td>none</td>\n",
       "      <td>Queen Anne is a wonderful, truly functional vi...</td>\n",
       "      <td>...</td>\n",
       "      <td>10.0</td>\n",
       "      <td>f</td>\n",
       "      <td>NaN</td>\n",
       "      <td>WASHINGTON</td>\n",
       "      <td>f</td>\n",
       "      <td>strict</td>\n",
       "      <td>t</td>\n",
       "      <td>t</td>\n",
       "      <td>6</td>\n",
       "      <td>1.48</td>\n",
       "    </tr>\n",
       "    <tr>\n",
       "      <th>2</th>\n",
       "      <td>3308979</td>\n",
       "      <td>https://www.airbnb.com/rooms/3308979</td>\n",
       "      <td>20160104002432</td>\n",
       "      <td>2016-01-04</td>\n",
       "      <td>New Modern House-Amazing water view</td>\n",
       "      <td>New modern house built in 2013.  Spectacular s...</td>\n",
       "      <td>Our house is modern, light and fresh with a wa...</td>\n",
       "      <td>New modern house built in 2013.  Spectacular s...</td>\n",
       "      <td>none</td>\n",
       "      <td>Upper Queen Anne is a charming neighborhood fu...</td>\n",
       "      <td>...</td>\n",
       "      <td>10.0</td>\n",
       "      <td>f</td>\n",
       "      <td>NaN</td>\n",
       "      <td>WASHINGTON</td>\n",
       "      <td>f</td>\n",
       "      <td>strict</td>\n",
       "      <td>f</td>\n",
       "      <td>f</td>\n",
       "      <td>2</td>\n",
       "      <td>1.15</td>\n",
       "    </tr>\n",
       "    <tr>\n",
       "      <th>3</th>\n",
       "      <td>7421966</td>\n",
       "      <td>https://www.airbnb.com/rooms/7421966</td>\n",
       "      <td>20160104002432</td>\n",
       "      <td>2016-01-04</td>\n",
       "      <td>Queen Anne Chateau</td>\n",
       "      <td>A charming apartment that sits atop Queen Anne...</td>\n",
       "      <td>NaN</td>\n",
       "      <td>A charming apartment that sits atop Queen Anne...</td>\n",
       "      <td>none</td>\n",
       "      <td>NaN</td>\n",
       "      <td>...</td>\n",
       "      <td>NaN</td>\n",
       "      <td>f</td>\n",
       "      <td>NaN</td>\n",
       "      <td>WASHINGTON</td>\n",
       "      <td>f</td>\n",
       "      <td>flexible</td>\n",
       "      <td>f</td>\n",
       "      <td>f</td>\n",
       "      <td>1</td>\n",
       "      <td>NaN</td>\n",
       "    </tr>\n",
       "    <tr>\n",
       "      <th>4</th>\n",
       "      <td>278830</td>\n",
       "      <td>https://www.airbnb.com/rooms/278830</td>\n",
       "      <td>20160104002432</td>\n",
       "      <td>2016-01-04</td>\n",
       "      <td>Charming craftsman 3 bdm house</td>\n",
       "      <td>Cozy family craftman house in beautiful neighb...</td>\n",
       "      <td>Cozy family craftman house in beautiful neighb...</td>\n",
       "      <td>Cozy family craftman house in beautiful neighb...</td>\n",
       "      <td>none</td>\n",
       "      <td>We are in the beautiful neighborhood of Queen ...</td>\n",
       "      <td>...</td>\n",
       "      <td>9.0</td>\n",
       "      <td>f</td>\n",
       "      <td>NaN</td>\n",
       "      <td>WASHINGTON</td>\n",
       "      <td>f</td>\n",
       "      <td>strict</td>\n",
       "      <td>f</td>\n",
       "      <td>f</td>\n",
       "      <td>1</td>\n",
       "      <td>0.89</td>\n",
       "    </tr>\n",
       "  </tbody>\n",
       "</table>\n",
       "<p>5 rows × 92 columns</p>\n",
       "</div>"
      ],
      "text/plain": [
       "        id                           listing_url       scrape_id last_scraped  \\\n",
       "0   241032   https://www.airbnb.com/rooms/241032  20160104002432   2016-01-04   \n",
       "1   953595   https://www.airbnb.com/rooms/953595  20160104002432   2016-01-04   \n",
       "2  3308979  https://www.airbnb.com/rooms/3308979  20160104002432   2016-01-04   \n",
       "3  7421966  https://www.airbnb.com/rooms/7421966  20160104002432   2016-01-04   \n",
       "4   278830   https://www.airbnb.com/rooms/278830  20160104002432   2016-01-04   \n",
       "\n",
       "                                  name  \\\n",
       "0         Stylish Queen Anne Apartment   \n",
       "1   Bright & Airy Queen Anne Apartment   \n",
       "2  New Modern House-Amazing water view   \n",
       "3                   Queen Anne Chateau   \n",
       "4       Charming craftsman 3 bdm house   \n",
       "\n",
       "                                             summary  \\\n",
       "0                                                NaN   \n",
       "1  Chemically sensitive? We've removed the irrita...   \n",
       "2  New modern house built in 2013.  Spectacular s...   \n",
       "3  A charming apartment that sits atop Queen Anne...   \n",
       "4  Cozy family craftman house in beautiful neighb...   \n",
       "\n",
       "                                               space  \\\n",
       "0  Make your self at home in this charming one-be...   \n",
       "1  Beautiful, hypoallergenic apartment in an extr...   \n",
       "2  Our house is modern, light and fresh with a wa...   \n",
       "3                                                NaN   \n",
       "4  Cozy family craftman house in beautiful neighb...   \n",
       "\n",
       "                                         description experiences_offered  \\\n",
       "0  Make your self at home in this charming one-be...                none   \n",
       "1  Chemically sensitive? We've removed the irrita...                none   \n",
       "2  New modern house built in 2013.  Spectacular s...                none   \n",
       "3  A charming apartment that sits atop Queen Anne...                none   \n",
       "4  Cozy family craftman house in beautiful neighb...                none   \n",
       "\n",
       "                               neighborhood_overview  ... review_scores_value  \\\n",
       "0                                                NaN  ...                10.0   \n",
       "1  Queen Anne is a wonderful, truly functional vi...  ...                10.0   \n",
       "2  Upper Queen Anne is a charming neighborhood fu...  ...                10.0   \n",
       "3                                                NaN  ...                 NaN   \n",
       "4  We are in the beautiful neighborhood of Queen ...  ...                 9.0   \n",
       "\n",
       "  requires_license license jurisdiction_names instant_bookable  \\\n",
       "0                f     NaN         WASHINGTON                f   \n",
       "1                f     NaN         WASHINGTON                f   \n",
       "2                f     NaN         WASHINGTON                f   \n",
       "3                f     NaN         WASHINGTON                f   \n",
       "4                f     NaN         WASHINGTON                f   \n",
       "\n",
       "  cancellation_policy  require_guest_profile_picture  \\\n",
       "0            moderate                              f   \n",
       "1              strict                              t   \n",
       "2              strict                              f   \n",
       "3            flexible                              f   \n",
       "4              strict                              f   \n",
       "\n",
       "  require_guest_phone_verification calculated_host_listings_count  \\\n",
       "0                                f                              2   \n",
       "1                                t                              6   \n",
       "2                                f                              2   \n",
       "3                                f                              1   \n",
       "4                                f                              1   \n",
       "\n",
       "  reviews_per_month  \n",
       "0              4.07  \n",
       "1              1.48  \n",
       "2              1.15  \n",
       "3               NaN  \n",
       "4              0.89  \n",
       "\n",
       "[5 rows x 92 columns]"
      ]
     },
     "execution_count": 4,
     "metadata": {},
     "output_type": "execute_result"
    }
   ],
   "source": [
    "listings_df = pd.read_csv('listings.csv')\n",
    "print(listings_df.shape)\n",
    "listings_df.head()"
   ]
  },
  {
   "cell_type": "markdown",
   "id": "5b47d730",
   "metadata": {},
   "source": [
    "The listings_df dataset contains all the **detailed information** on each listing including host, property area, reviews, extra fees, and property characteristics."
   ]
  },
  {
   "cell_type": "markdown",
   "id": "934299e1",
   "metadata": {},
   "source": [
    "### Business Questions\n",
    "\n",
    "1. How does the time of year affect property availability?\n",
    "2. What is the most common type of property rented?\n",
    "3. Can the listing review score be predicted?"
   ]
  },
  {
   "cell_type": "markdown",
   "id": "a483110b",
   "metadata": {},
   "source": [
    "#### Question 1: How does the time of year affect property availability?\n",
    "\n",
    "Hosts on AirBNB ideally should look to rent out their properties all year long to maximise their revenue. However, there will be times where more people are travelling and hence more people are looking to rent properties. It will be interesting to see during which seasons this is the case, and insightful for hosts to ensure their properties are ready and in the best possible condition to maximise their chance of hosting guests."
   ]
  },
  {
   "cell_type": "code",
   "execution_count": 5,
   "id": "c0a5498c",
   "metadata": {},
   "outputs": [
    {
     "data": {
      "text/plain": [
       "listing_id     int64\n",
       "date          object\n",
       "available     object\n",
       "price         object\n",
       "dtype: object"
      ]
     },
     "execution_count": 5,
     "metadata": {},
     "output_type": "execute_result"
    }
   ],
   "source": [
    "calendar_df.dtypes"
   ]
  },
  {
   "cell_type": "code",
   "execution_count": 6,
   "id": "08fa7a87",
   "metadata": {},
   "outputs": [],
   "source": [
    "# Make datetime column(s) to make dates easier to work with\n",
    "\n",
    "calendar_df['date_converted'] = pd.to_datetime(calendar_df['date'], format='%Y-%m-%d')\n",
    "calendar_df['year'] = calendar_df['date_converted'].dt.year\n",
    "calendar_df['month'] = calendar_df['date_converted'].dt.month\n",
    "calendar_df['day'] = calendar_df['date_converted'].dt.day"
   ]
  },
  {
   "cell_type": "code",
   "execution_count": 7,
   "id": "5788342a",
   "metadata": {},
   "outputs": [
    {
     "data": {
      "text/html": [
       "<div>\n",
       "<style scoped>\n",
       "    .dataframe tbody tr th:only-of-type {\n",
       "        vertical-align: middle;\n",
       "    }\n",
       "\n",
       "    .dataframe tbody tr th {\n",
       "        vertical-align: top;\n",
       "    }\n",
       "\n",
       "    .dataframe thead th {\n",
       "        text-align: right;\n",
       "    }\n",
       "</style>\n",
       "<table border=\"1\" class=\"dataframe\">\n",
       "  <thead>\n",
       "    <tr style=\"text-align: right;\">\n",
       "      <th></th>\n",
       "      <th>listing_id</th>\n",
       "      <th>date</th>\n",
       "      <th>available</th>\n",
       "      <th>price</th>\n",
       "      <th>date_converted</th>\n",
       "      <th>year</th>\n",
       "      <th>month</th>\n",
       "      <th>day</th>\n",
       "    </tr>\n",
       "  </thead>\n",
       "  <tbody>\n",
       "    <tr>\n",
       "      <th>0</th>\n",
       "      <td>241032</td>\n",
       "      <td>2016-01-04</td>\n",
       "      <td>t</td>\n",
       "      <td>$85.00</td>\n",
       "      <td>2016-01-04</td>\n",
       "      <td>2016</td>\n",
       "      <td>1</td>\n",
       "      <td>4</td>\n",
       "    </tr>\n",
       "    <tr>\n",
       "      <th>1</th>\n",
       "      <td>241032</td>\n",
       "      <td>2016-01-05</td>\n",
       "      <td>t</td>\n",
       "      <td>$85.00</td>\n",
       "      <td>2016-01-05</td>\n",
       "      <td>2016</td>\n",
       "      <td>1</td>\n",
       "      <td>5</td>\n",
       "    </tr>\n",
       "    <tr>\n",
       "      <th>2</th>\n",
       "      <td>241032</td>\n",
       "      <td>2016-01-06</td>\n",
       "      <td>f</td>\n",
       "      <td>NaN</td>\n",
       "      <td>2016-01-06</td>\n",
       "      <td>2016</td>\n",
       "      <td>1</td>\n",
       "      <td>6</td>\n",
       "    </tr>\n",
       "    <tr>\n",
       "      <th>3</th>\n",
       "      <td>241032</td>\n",
       "      <td>2016-01-07</td>\n",
       "      <td>f</td>\n",
       "      <td>NaN</td>\n",
       "      <td>2016-01-07</td>\n",
       "      <td>2016</td>\n",
       "      <td>1</td>\n",
       "      <td>7</td>\n",
       "    </tr>\n",
       "    <tr>\n",
       "      <th>4</th>\n",
       "      <td>241032</td>\n",
       "      <td>2016-01-08</td>\n",
       "      <td>f</td>\n",
       "      <td>NaN</td>\n",
       "      <td>2016-01-08</td>\n",
       "      <td>2016</td>\n",
       "      <td>1</td>\n",
       "      <td>8</td>\n",
       "    </tr>\n",
       "  </tbody>\n",
       "</table>\n",
       "</div>"
      ],
      "text/plain": [
       "   listing_id        date available   price date_converted  year  month  day\n",
       "0      241032  2016-01-04         t  $85.00     2016-01-04  2016      1    4\n",
       "1      241032  2016-01-05         t  $85.00     2016-01-05  2016      1    5\n",
       "2      241032  2016-01-06         f     NaN     2016-01-06  2016      1    6\n",
       "3      241032  2016-01-07         f     NaN     2016-01-07  2016      1    7\n",
       "4      241032  2016-01-08         f     NaN     2016-01-08  2016      1    8"
      ]
     },
     "execution_count": 7,
     "metadata": {},
     "output_type": "execute_result"
    }
   ],
   "source": [
    "calendar_df.head()"
   ]
  },
  {
   "cell_type": "code",
   "execution_count": 8,
   "id": "7c714861",
   "metadata": {},
   "outputs": [],
   "source": [
    "# Split data according to available and unavailable listings for ease of grouping.\n",
    "\n",
    "properties_available = calendar_df[calendar_df['available'] == 't']\n",
    "properties_unavailable = calendar_df[calendar_df['available'] == 'f']"
   ]
  },
  {
   "cell_type": "code",
   "execution_count": 9,
   "id": "a66078d0",
   "metadata": {},
   "outputs": [
    {
     "data": {
      "image/png": "[encoded data removed]",
      "text/plain": [
       "<Figure size 1080x360 with 1 Axes>"
      ]
     },
     "metadata": {},
     "output_type": "display_data"
    }
   ],
   "source": [
    "properties_available['available'].groupby(properties_available['month']).value_counts().plot(kind='line', figsize=(15, 5), title='Available monthly listings');"
   ]
  },
  {
   "cell_type": "code",
   "execution_count": 10,
   "id": "4dd00246",
   "metadata": {},
   "outputs": [
    {
     "data": {
      "image/png": "[encoded data removed]",
      "text/plain": [
       "<Figure size 864x360 with 1 Axes>"
      ]
     },
     "metadata": {},
     "output_type": "display_data"
    }
   ],
   "source": [
    "properties_unavailable['available'].groupby(properties_unavailable['month']).value_counts().plot(kind='line', figsize=(12, 5), title='Unavailable monthly listings');"
   ]
  },
  {
   "cell_type": "markdown",
   "id": "e01f79ce",
   "metadata": {},
   "source": [
    "The above trends show the number of available and unavailable Seattle AirBNB listings throughout the year. According to [this](https://weatherspark.com/y/913/Average-Weather-in-Seattle-Washington-United-States-Year-Round#:~:text=In%20Seattle%2C%20the%20summers%20are,or%20above%2088%C2%B0F.) article, the best time to visit Seattle is during the warmer summer months that occur from June-August. \n",
    "\n",
    "The graphs certainly suggest this is the case. While the total monthly available listings throughout the year always exceed the unavailable listings, there is a definite pattern of higher or lower listings activity that emerged over the year. \n",
    "\n",
    "\"Unavailable\" could be defined as either properties being taken off the AirBNB site for maintenance or personal use by the host, or more likely, because they are being rented out by guests. For the purpose of this question, it will be assumed that it is the latter case.\n",
    "\n",
    "During the summer months, we see a climb in unavailable listings which may imply that more travellers are renting out available properties. Once September begins, a steady decline in the number of available listings occurs as guests return to their daily lives. Another spike in unavailable properties occurs during January, which may be linked to the festive season of Christmas and New Year's Day as well as other national holidays that occur in January. After this spike, there is a lull in rented listings from February to the summer months, where the influx of rentals can take place once again.\n",
    "\n",
    "Ultimately, it can be concluded that the availability of listings is affected by the seasonal weather as well as festive holidays."
   ]
  },
  {
   "cell_type": "markdown",
   "id": "18a16485",
   "metadata": {},
   "source": [
    "#### Question 2: What is the most common type of property rented?\n",
    "\n",
    "New or existing hosts can be curious about what types of properties are most sought after by potential guests. By answering this question, hosts can take a wiser approach to property investments (or expansions), and maximise the likelihood of securing revenue for the rental season."
   ]
  },
  {
   "cell_type": "code",
   "execution_count": 11,
   "id": "6ac90554",
   "metadata": {},
   "outputs": [
    {
     "name": "stdout",
     "output_type": "stream",
     "text": [
      "(3818, 92)\n",
      "\n",
      "United States    3818\n",
      "Name: country, dtype: int64\n",
      "\n",
      "Seattle                  3810\n",
      "West Seattle                2\n",
      "Seattle                     2\n",
      "Ballard, Seattle            1\n",
      "西雅图                         1\n",
      "Phinney Ridge Seattle       1\n",
      "seattle                     1\n",
      "Name: city, dtype: int64\n",
      "\n",
      "WA    3817\n",
      "wa       1\n",
      "Name: state, dtype: int64\n"
     ]
    }
   ],
   "source": [
    "# The following lines of code were used for investigatory purposes and to ensure all the data did in fact relate to Seattle\n",
    "\n",
    "print(listings_df.shape)\n",
    "print()\n",
    "print(listings_df['country'].value_counts())\n",
    "print()\n",
    "print(listings_df['city'].value_counts())\n",
    "print()\n",
    "print(listings_df['state'].value_counts())"
   ]
  },
  {
   "cell_type": "code",
   "execution_count": 12,
   "id": "b4d20bf6",
   "metadata": {},
   "outputs": [
    {
     "data": {
      "image/png": "[encoded data removed]",
      "text/plain": [
       "<Figure size 864x360 with 1 Axes>"
      ]
     },
     "metadata": {},
     "output_type": "display_data"
    }
   ],
   "source": [
    "ax = listings_df['property_type'].value_counts().plot(kind='bar', figsize=(12, 5), title='Property Types');\n",
    "ax.bar_label(ax.containers[0]);"
   ]
  },
  {
   "cell_type": "markdown",
   "id": "82d1124a",
   "metadata": {},
   "source": [
    "It would appear that houses and apartments are the most common listed property types by a significant margin. Hosts wishing to provide similar services to existing listings would do well to obtain either of these types of properties, or benefit by providing one of the more rare listings available and adding a sense of exclusivity and rarity to their property. \n",
    "\n",
    "Following the logic from the previous question, if it is assumed that unavailable listings are rented listings, then the number of unavailable listings needs to be separated by type to observe which property type is rented most often."
   ]
  },
  {
   "cell_type": "code",
   "execution_count": 13,
   "id": "8ae78ebd",
   "metadata": {},
   "outputs": [],
   "source": [
    "# joining dataframes with listing information and calendar information\n",
    "\n",
    "listings_calendar_df = pd.concat([calendar_df, listings_df], axis=1)"
   ]
  },
  {
   "cell_type": "code",
   "execution_count": 14,
   "id": "6c506261",
   "metadata": {},
   "outputs": [
    {
     "data": {
      "image/png": "[encoded data removed]",
      "text/plain": [
       "<Figure size 864x432 with 1 Axes>"
      ]
     },
     "metadata": {},
     "output_type": "display_data"
    }
   ],
   "source": [
    "ax = listings_calendar_df[listings_calendar_df['available'] == 'f']['property_type'].value_counts().plot(kind='bar', figsize=(12, 6), title='Unavailable Property Types');\n",
    "ax.bar_label(ax.containers[0]);"
   ]
  },
  {
   "cell_type": "markdown",
   "id": "0f2dd215",
   "metadata": {},
   "source": [
    "Despite the fact that the most common type of property listing are houses, it is apartment listings that are most sought by guests (assuming that unavailable listings correlate to rented properties). Therefore, it may be wise for hosts to provide listings that are apartments in the Seattle area to cater for potential guests."
   ]
  },
  {
   "cell_type": "markdown",
   "id": "27ecfbf6",
   "metadata": {},
   "source": [
    "#### Question 3: Can the listing review score be predicted?\n",
    "\n",
    "Hosts that receive higher review ratings on their properties are more likely to be successful through AirBNB as guests will trust properties with good ratings as opposed to lower ones. If the review rating could be predicted based on specific property criteria, it would give great insight into what Hosts should focus on when providing properties for rent.\n",
    "\n",
    "This question will involve machine learning."
   ]
  },
  {
   "cell_type": "code",
   "execution_count": 15,
   "id": "dd802d88",
   "metadata": {},
   "outputs": [
    {
     "data": {
      "text/plain": [
       "Index(['id', 'listing_url', 'scrape_id', 'last_scraped', 'name', 'summary',\n",
       "       'space', 'description', 'experiences_offered', 'neighborhood_overview',\n",
       "       'notes', 'transit', 'thumbnail_url', 'medium_url', 'picture_url',\n",
       "       'xl_picture_url', 'host_id', 'host_url', 'host_name', 'host_since',\n",
       "       'host_location', 'host_about', 'host_response_time',\n",
       "       'host_response_rate', 'host_acceptance_rate', 'host_is_superhost',\n",
       "       'host_thumbnail_url', 'host_picture_url', 'host_neighbourhood',\n",
       "       'host_listings_count', 'host_total_listings_count',\n",
       "       'host_verifications', 'host_has_profile_pic', 'host_identity_verified',\n",
       "       'street', 'neighbourhood', 'neighbourhood_cleansed',\n",
       "       'neighbourhood_group_cleansed', 'city', 'state', 'zipcode', 'market',\n",
       "       'smart_location', 'country_code', 'country', 'latitude', 'longitude',\n",
       "       'is_location_exact', 'property_type', 'room_type', 'accommodates',\n",
       "       'bathrooms', 'bedrooms', 'beds', 'bed_type', 'amenities', 'square_feet',\n",
       "       'price', 'weekly_price', 'monthly_price', 'security_deposit',\n",
       "       'cleaning_fee', 'guests_included', 'extra_people', 'minimum_nights',\n",
       "       'maximum_nights', 'calendar_updated', 'has_availability',\n",
       "       'availability_30', 'availability_60', 'availability_90',\n",
       "       'availability_365', 'calendar_last_scraped', 'number_of_reviews',\n",
       "       'first_review', 'last_review', 'review_scores_rating',\n",
       "       'review_scores_accuracy', 'review_scores_cleanliness',\n",
       "       'review_scores_checkin', 'review_scores_communication',\n",
       "       'review_scores_location', 'review_scores_value', 'requires_license',\n",
       "       'license', 'jurisdiction_names', 'instant_bookable',\n",
       "       'cancellation_policy', 'require_guest_profile_picture',\n",
       "       'require_guest_phone_verification', 'calculated_host_listings_count',\n",
       "       'reviews_per_month'],\n",
       "      dtype='object')"
      ]
     },
     "execution_count": 15,
     "metadata": {},
     "output_type": "execute_result"
    }
   ],
   "source": [
    "# Inspect listings_df columns for potential features contributing to overall review rating\n",
    "\n",
    "listings_df.columns"
   ]
  },
  {
   "cell_type": "markdown",
   "id": "0afa789c",
   "metadata": {},
   "source": [
    "The selected target variable is:\n",
    "\n",
    "**Review scores rating** - this value encapsulates the score on each of the review criteria (accuracy, cleanliness, check-in, communication, location, and value)\n",
    "\n",
    "The selected features for review score predictions are:\n",
    "    \n",
    "1. Host response time\n",
    "2. Host is super host\n",
    "3. Host identity verified\n",
    "4. Neighbourhood group cleansed\n",
    "5. Bathrooms\n",
    "6. Bedrooms\n",
    "7. Beds\n",
    "8. Price\n",
    "9. Instant bookable\n",
    "10. Cancellation policy"
   ]
  },
  {
   "cell_type": "code",
   "execution_count": 16,
   "id": "c75b3c5c",
   "metadata": {},
   "outputs": [
    {
     "data": {
      "text/html": [
       "<div>\n",
       "<style scoped>\n",
       "    .dataframe tbody tr th:only-of-type {\n",
       "        vertical-align: middle;\n",
       "    }\n",
       "\n",
       "    .dataframe tbody tr th {\n",
       "        vertical-align: top;\n",
       "    }\n",
       "\n",
       "    .dataframe thead th {\n",
       "        text-align: right;\n",
       "    }\n",
       "</style>\n",
       "<table border=\"1\" class=\"dataframe\">\n",
       "  <thead>\n",
       "    <tr style=\"text-align: right;\">\n",
       "      <th></th>\n",
       "      <th>host_response_time</th>\n",
       "      <th>host_is_superhost</th>\n",
       "      <th>host_identity_verified</th>\n",
       "      <th>neighbourhood_group_cleansed</th>\n",
       "      <th>bathrooms</th>\n",
       "      <th>bedrooms</th>\n",
       "      <th>beds</th>\n",
       "      <th>price</th>\n",
       "      <th>instant_bookable</th>\n",
       "      <th>cancellation_policy</th>\n",
       "      <th>review_scores_rating</th>\n",
       "    </tr>\n",
       "  </thead>\n",
       "  <tbody>\n",
       "    <tr>\n",
       "      <th>0</th>\n",
       "      <td>within a few hours</td>\n",
       "      <td>f</td>\n",
       "      <td>t</td>\n",
       "      <td>Queen Anne</td>\n",
       "      <td>1.0</td>\n",
       "      <td>1.0</td>\n",
       "      <td>1.0</td>\n",
       "      <td>$85.00</td>\n",
       "      <td>f</td>\n",
       "      <td>moderate</td>\n",
       "      <td>95.0</td>\n",
       "    </tr>\n",
       "    <tr>\n",
       "      <th>1</th>\n",
       "      <td>within an hour</td>\n",
       "      <td>t</td>\n",
       "      <td>t</td>\n",
       "      <td>Queen Anne</td>\n",
       "      <td>1.0</td>\n",
       "      <td>1.0</td>\n",
       "      <td>1.0</td>\n",
       "      <td>$150.00</td>\n",
       "      <td>f</td>\n",
       "      <td>strict</td>\n",
       "      <td>96.0</td>\n",
       "    </tr>\n",
       "    <tr>\n",
       "      <th>2</th>\n",
       "      <td>within a few hours</td>\n",
       "      <td>f</td>\n",
       "      <td>t</td>\n",
       "      <td>Queen Anne</td>\n",
       "      <td>4.5</td>\n",
       "      <td>5.0</td>\n",
       "      <td>7.0</td>\n",
       "      <td>$975.00</td>\n",
       "      <td>f</td>\n",
       "      <td>strict</td>\n",
       "      <td>97.0</td>\n",
       "    </tr>\n",
       "    <tr>\n",
       "      <th>3</th>\n",
       "      <td>NaN</td>\n",
       "      <td>f</td>\n",
       "      <td>t</td>\n",
       "      <td>Queen Anne</td>\n",
       "      <td>1.0</td>\n",
       "      <td>0.0</td>\n",
       "      <td>2.0</td>\n",
       "      <td>$100.00</td>\n",
       "      <td>f</td>\n",
       "      <td>flexible</td>\n",
       "      <td>NaN</td>\n",
       "    </tr>\n",
       "    <tr>\n",
       "      <th>4</th>\n",
       "      <td>within an hour</td>\n",
       "      <td>f</td>\n",
       "      <td>t</td>\n",
       "      <td>Queen Anne</td>\n",
       "      <td>2.0</td>\n",
       "      <td>3.0</td>\n",
       "      <td>3.0</td>\n",
       "      <td>$450.00</td>\n",
       "      <td>f</td>\n",
       "      <td>strict</td>\n",
       "      <td>92.0</td>\n",
       "    </tr>\n",
       "  </tbody>\n",
       "</table>\n",
       "</div>"
      ],
      "text/plain": [
       "   host_response_time host_is_superhost host_identity_verified  \\\n",
       "0  within a few hours                 f                      t   \n",
       "1      within an hour                 t                      t   \n",
       "2  within a few hours                 f                      t   \n",
       "3                 NaN                 f                      t   \n",
       "4      within an hour                 f                      t   \n",
       "\n",
       "  neighbourhood_group_cleansed  bathrooms  bedrooms  beds    price  \\\n",
       "0                   Queen Anne        1.0       1.0   1.0   $85.00   \n",
       "1                   Queen Anne        1.0       1.0   1.0  $150.00   \n",
       "2                   Queen Anne        4.5       5.0   7.0  $975.00   \n",
       "3                   Queen Anne        1.0       0.0   2.0  $100.00   \n",
       "4                   Queen Anne        2.0       3.0   3.0  $450.00   \n",
       "\n",
       "  instant_bookable cancellation_policy  review_scores_rating  \n",
       "0                f            moderate                  95.0  \n",
       "1                f              strict                  96.0  \n",
       "2                f              strict                  97.0  \n",
       "3                f            flexible                   NaN  \n",
       "4                f              strict                  92.0  "
      ]
     },
     "execution_count": 16,
     "metadata": {},
     "output_type": "execute_result"
    }
   ],
   "source": [
    "predict_reviews_df = listings_df[['host_response_time', 'host_is_superhost', 'host_identity_verified', \n",
    "                                  'neighbourhood_group_cleansed', 'bathrooms', 'bedrooms', 'beds', 'price', \n",
    "                                  'instant_bookable', 'cancellation_policy', 'review_scores_rating']]\n",
    "predict_reviews_df.head()"
   ]
  },
  {
   "cell_type": "code",
   "execution_count": 17,
   "id": "e16bf2b1",
   "metadata": {},
   "outputs": [],
   "source": [
    "# make price column numeric\n",
    "\n",
    "predict_reviews_df['price'] = predict_reviews_df['price'].str.replace(',', '')\n",
    "predict_reviews_df['price'] = predict_reviews_df['price'].str.replace('$', '').astype(float)"
   ]
  },
  {
   "cell_type": "markdown",
   "id": "a91245f7",
   "metadata": {},
   "source": [
    "The features were selected for their potential impact on guest experiences in renting a property space. Guest experiences are affected by host interactions, property characteristics, and convenience. The first three features shold encapsulate a guest's experience with the host of the proerpty being rented. The next five features deal with the property characteristics, while the final two features speak to the convenience of renting the property.\n",
    "\n",
    "The following cells aim to use a function to:\n",
    "\n",
    "- Remove nulls\n",
    "- Enumerate categorical variables using dummy variables\n",
    "- Establish target and feature variables\n",
    "- Split dataset into train and test sets\n",
    "- Instatiate, fit, and score a model\n",
    "- Return model scores."
   ]
  },
  {
   "cell_type": "code",
   "execution_count": 18,
   "id": "650c1be1",
   "metadata": {},
   "outputs": [
    {
     "data": {
      "text/plain": [
       "['host_response_time',\n",
       " 'host_is_superhost',\n",
       " 'host_identity_verified',\n",
       " 'neighbourhood_group_cleansed',\n",
       " 'instant_bookable',\n",
       " 'cancellation_policy']"
      ]
     },
     "execution_count": 18,
     "metadata": {},
     "output_type": "execute_result"
    }
   ],
   "source": [
    "# retrieve categorical columns\n",
    "\n",
    "categorical_columns = [col for col in predict_reviews_df.columns if predict_reviews_df[col].dtypes == 'O']\n",
    "categorical_columns"
   ]
  },
  {
   "cell_type": "code",
   "execution_count": 19,
   "id": "b716af14",
   "metadata": {},
   "outputs": [],
   "source": [
    "def predict_review_rating(input_df, target_variable, categorical_columns, test_size=0.3, random_state=77):\n",
    "    '''\n",
    "    INPUT:\n",
    "    input_df - a dataframe containing target and feature variables\n",
    "    target_variable - a string representing the name of the column to be used as the response variable\n",
    "    categorical_columns - a list holding strings which represent the names of categorical columns in the dataframe\n",
    "    test_size - a float between [0, 1] representing the proportion of the test dataset\n",
    "    random_state - an integer which declares the state of the random split into train and test variables\n",
    "    \n",
    "    OUTPUT:\n",
    "    test_score - (float) r2 score on test data\n",
    "    train_score - (float)  r2 score on train data\n",
    "    model - model object from sklearn\n",
    "    \n",
    "    This function receives the above stated inputs and:\n",
    "    - Removes nulls\n",
    "    - Enumerates categorical variables using dummy variables\n",
    "    - Establishes target and feature variables\n",
    "    - Splits dataset into train and test sets\n",
    "    - Instatiates, fits, and scores a linear model\n",
    "    - Returns model scores, the model object, and the training and test sets.\n",
    "    '''\n",
    "    \n",
    "    df = input_df.dropna(subset=[target_variable], axis=0)\n",
    "    \n",
    "    for col in categorical_columns: # null categorical values are considered to be important for this experiment as evidence of a \"non-response\"\n",
    "        try:\n",
    "            df = pd.concat([df.drop(col, axis=1), pd.get_dummies(df[col], prefix=col, prefix_sep='_', drop_first=True, dummy_na=True)], axis=1)\n",
    "        except:\n",
    "            continue\n",
    "    \n",
    "    fill_zeros = lambda col: col.fillna(0)\n",
    "    \n",
    "    # Fill numerical columns with 0 - null bedroom and bathroom values are considered to imply 0.\n",
    "    df = df.apply(fill_zeros, axis=0)\n",
    "    \n",
    "    X = df.drop(target_variable, axis=1)\n",
    "    y = df[target_variable]\n",
    "    \n",
    "    X_train, X_test, y_train, y_test = train_test_split(X, y, test_size=test_size, random_state=random_state)\n",
    "    \n",
    "    model = LinearRegression(normalize=True) # Instantiate\n",
    "    model.fit(X_train, y_train) # Fit\n",
    "    \n",
    "    y_test_preds = model.predict(X_test)\n",
    "    y_train_preds = model.predict(X_train)\n",
    "    \n",
    "    test_score = r2_score(y_test, y_test_preds)\n",
    "    train_score = r2_score(y_train, y_train_preds)\n",
    "    \n",
    "    return test_score, train_score, model"
   ]
  },
  {
   "cell_type": "code",
   "execution_count": 22,
   "id": "f09770a7",
   "metadata": {},
   "outputs": [],
   "source": [
    "# use function to predict review score rating\n",
    "\n",
    "test_score, train_score, model = predict_review_rating(predict_reviews_df, 'review_scores_rating', categorical_columns)"
   ]
  },
  {
   "cell_type": "code",
   "execution_count": 23,
   "id": "77319df7",
   "metadata": {},
   "outputs": [
    {
     "name": "stdout",
     "output_type": "stream",
     "text": [
      "The trained model has an r2 score of 0.10989022032162554 on the test set.\n",
      "The trained model has an r2 score of 0.10846448459010927 on the train set.\n"
     ]
    }
   ],
   "source": [
    "# print model results\n",
    "print(f\"The trained model has an r2 score of {test_score} on the test set.\")\n",
    "print(f\"The trained model has an r2 score of {train_score} on the train set.\")"
   ]
  },
  {
   "cell_type": "markdown",
   "id": "e6c6a9e6",
   "metadata": {},
   "source": [
    "It would seem that the trained linear model did not perform well in predicting the review rating of the AirBNB experience based on the chosen feature set. It could be the case that the chosen features do not quite encapsulate the logic of the system, or perhaps individual and group reviews are simply too subjective to be accurately determined. \n",
    "\n",
    "The test and train r2 scores are very similar in values, which at least shows overfitting is not an issue for this particular experiment.\n",
    "\n",
    "Perhaps a better experiment could be conducted where the targtet variable is the price to rent the property."
   ]
  },
  {
   "cell_type": "code",
   "execution_count": null,
   "id": "6018893d",
   "metadata": {},
   "outputs": [],
   "source": []
  }
 ],
 "metadata": {
  "kernelspec": {
   "display_name": "Python 3 (ipykernel)",
   "language": "python",
   "name": "python3"
  },
  "language_info": {
   "codemirror_mode": {
    "name": "ipython",
    "version": 3
   },
   "file_extension": ".py",
   "mimetype": "text/x-python",
   "name": "python",
   "nbconvert_exporter": "python",
   "pygments_lexer": "ipython3",
   "version": "3.9.12"
  }
 },
 "nbformat": 4,
 "nbformat_minor": 5
}
